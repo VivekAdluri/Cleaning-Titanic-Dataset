{
  "nbformat": 4,
  "nbformat_minor": 0,
  "metadata": {
    "colab": {
      "provenance": [],
      "authorship_tag": "ABX9TyPGwGxOZ7DfZclbRqj/NBAR",
      "include_colab_link": true
    },
    "kernelspec": {
      "name": "python3",
      "display_name": "Python 3"
    },
    "language_info": {
      "name": "python"
    }
  },
  "cells": [
    {
      "cell_type": "markdown",
      "metadata": {
        "id": "view-in-github",
        "colab_type": "text"
      },
      "source": [
        "<a href=\"https://colab.research.google.com/github/VivekAdluri/Cleaning-Titanic-Dataset/blob/main/Cleaned_Titanic_Dataset.ipynb\" target=\"_parent\"><img src=\"https://colab.research.google.com/assets/colab-badge.svg\" alt=\"Open In Colab\"/></a>"
      ]
    },
    {
      "cell_type": "code",
      "source": [
        "import kagglehub\n",
        "\n",
        "# Download latest version\n",
        "path = kagglehub.dataset_download(\"brendan45774/test-file\")\n",
        "\n",
        "print(\"Path to dataset files:\", path)"
      ],
      "metadata": {
        "colab": {
          "base_uri": "https://localhost:8080/"
        },
        "id": "1xXtSF8BSys4",
        "outputId": "e40229f0-8f9e-4b14-9303-6a33ee1eb39e"
      },
      "execution_count": 8,
      "outputs": [
        {
          "output_type": "stream",
          "name": "stdout",
          "text": [
            "Path to dataset files: /root/.cache/kagglehub/datasets/brendan45774/test-file/versions/6\n"
          ]
        }
      ]
    },
    {
      "cell_type": "code",
      "source": [
        "import shutil\n",
        "import os\n",
        "\n",
        "files = os.listdir(path)\n",
        "\n",
        "for file in files:\n",
        "    full_path = os.path.join(path, file)\n",
        "    if os.path.isfile(full_path):\n",
        "        shutil.move(full_path, '/content/')\n"
      ],
      "metadata": {
        "id": "ENIUi2MzTIrl"
      },
      "execution_count": 9,
      "outputs": []
    },
    {
      "cell_type": "code",
      "source": [
        "import numpy as np\n",
        "import pandas as pd\n",
        "\n",
        "data=pd.read_csv(\"/content/tested.csv\")\n",
        "\n",
        "print(\"Initial data:\")\n",
        "print(data.head())"
      ],
      "metadata": {
        "colab": {
          "base_uri": "https://localhost:8080/"
        },
        "id": "hvHMbH8qVtcP",
        "outputId": "2a5b96cc-53e6-4716-b28b-8b2ad3651ee0"
      },
      "execution_count": 11,
      "outputs": [
        {
          "output_type": "stream",
          "name": "stdout",
          "text": [
            "Initial data:\n",
            "   PassengerId  Survived  Pclass  \\\n",
            "0          892         0       3   \n",
            "1          893         1       3   \n",
            "2          894         0       2   \n",
            "3          895         0       3   \n",
            "4          896         1       3   \n",
            "\n",
            "                                           Name     Sex   Age  SibSp  Parch  \\\n",
            "0                              Kelly, Mr. James    male  34.5      0      0   \n",
            "1              Wilkes, Mrs. James (Ellen Needs)  female  47.0      1      0   \n",
            "2                     Myles, Mr. Thomas Francis    male  62.0      0      0   \n",
            "3                              Wirz, Mr. Albert    male  27.0      0      0   \n",
            "4  Hirvonen, Mrs. Alexander (Helga E Lindqvist)  female  22.0      1      1   \n",
            "\n",
            "    Ticket     Fare Cabin Embarked  \n",
            "0   330911   7.8292   NaN        Q  \n",
            "1   363272   7.0000   NaN        S  \n",
            "2   240276   9.6875   NaN        Q  \n",
            "3   315154   8.6625   NaN        S  \n",
            "4  3101298  12.2875   NaN        S  \n"
          ]
        }
      ]
    },
    {
      "cell_type": "code",
      "source": [
        "data.fillna(data.median(numeric_only=True), inplace=True)"
      ],
      "metadata": {
        "id": "acqoqA5mWIU1"
      },
      "execution_count": 14,
      "outputs": []
    },
    {
      "cell_type": "code",
      "source": [
        "data.drop_duplicates(inplace=True)"
      ],
      "metadata": {
        "id": "xgnIGtAlWlNn"
      },
      "execution_count": 15,
      "outputs": []
    },
    {
      "cell_type": "code",
      "source": [
        "print(\"Cleaned data:\")\n",
        "print(data.head())"
      ],
      "metadata": {
        "colab": {
          "base_uri": "https://localhost:8080/"
        },
        "id": "jM5HHTCFWsK6",
        "outputId": "a1fbe21e-1898-4da6-af90-0c42306d23bc"
      },
      "execution_count": 26,
      "outputs": [
        {
          "output_type": "stream",
          "name": "stdout",
          "text": [
            "Cleaned data:\n",
            "   PassengerId  Survived    Pclass      Name       Sex       Age     SibSp  \\\n",
            "0    -1.727912 -0.755929  0.873482 -0.020718  0.755929  0.386231 -0.499470   \n",
            "1    -1.719625  1.322876  0.873482  1.611889 -1.322876  1.371370  0.616992   \n",
            "2    -1.711337 -0.755929 -0.315819  0.501385  0.755929  2.553537 -0.499470   \n",
            "3    -1.703050 -0.755929  0.873482  1.653326  0.755929 -0.204852 -0.499470   \n",
            "4    -1.694763  1.322876  0.873482 -0.252764 -1.322876 -0.598908  0.616992   \n",
            "\n",
            "      Parch    Ticket      Fare     Cabin  Embarked  \n",
            "0 -0.400248 -0.269494 -0.497413  0.449022 -0.470915  \n",
            "1 -0.400248  0.372934 -0.512278  0.449022  0.700767  \n",
            "2 -0.400248 -1.005027 -0.464100  0.449022 -0.470915  \n",
            "3 -0.400248 -0.316046 -0.482475  0.449022  0.700767  \n",
            "4  0.619896 -0.399841 -0.417492  0.449022  0.700767  \n"
          ]
        }
      ]
    },
    {
      "cell_type": "code",
      "source": [
        "data.to_csv(\"/content/cleaned_tested.csv\", index=False)\n",
        "print(\"Cleaned dataset saved at: /content/cleaned_tested.csv\")"
      ],
      "metadata": {
        "colab": {
          "base_uri": "https://localhost:8080/"
        },
        "id": "JRZKQc-EWxHp",
        "outputId": "78c23bc1-7b81-4e38-952f-4226132d2e8f"
      },
      "execution_count": 27,
      "outputs": [
        {
          "output_type": "stream",
          "name": "stdout",
          "text": [
            "Cleaned dataset saved at: /content/cleaned_tested.csv\n"
          ]
        }
      ]
    }
  ]
}